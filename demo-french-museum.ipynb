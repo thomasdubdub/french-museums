{
 "cells": [
  {
   "cell_type": "markdown",
   "metadata": {},
   "source": [
    "# Build an interactive map displaying all French museums"
   ]
  },
  {
   "cell_type": "markdown",
   "metadata": {},
   "source": [
    "#### Open data files can be found here: https://www.data.gouv.fr/fr/datasets/musees-de-france-1/"
   ]
  },
  {
   "cell_type": "code",
   "execution_count": 1,
   "metadata": {},
   "outputs": [],
   "source": [
    "import pandas as pd\n",
    "from ipyleaflet import Map, basemaps, basemap_to_tiles, Marker, MarkerCluster\n",
    "from ipywidgets import Layout\n",
    "from ipywidgets.embed import embed_minimal_html"
   ]
  },
  {
   "cell_type": "code",
   "execution_count": 2,
   "metadata": {},
   "outputs": [],
   "source": [
    "fname = \"french-museums.csv\"\n",
    "default_zoom = 6\n",
    "france_barycenter = (46.82, 2.39)\n",
    "terrain = basemap_to_tiles(basemaps.Stamen.Terrain)"
   ]
  },
  {
   "cell_type": "markdown",
   "metadata": {},
   "source": [
    "#### <br> Build a pandas dataframe from the data file"
   ]
  },
  {
   "cell_type": "code",
   "execution_count": 3,
   "metadata": {},
   "outputs": [
    {
     "data": {
      "text/html": [
       "<div>\n",
       "<style scoped>\n",
       "    .dataframe tbody tr th:only-of-type {\n",
       "        vertical-align: middle;\n",
       "    }\n",
       "\n",
       "    .dataframe tbody tr th {\n",
       "        vertical-align: top;\n",
       "    }\n",
       "\n",
       "    .dataframe thead th {\n",
       "        text-align: right;\n",
       "    }\n",
       "</style>\n",
       "<table border=\"1\" class=\"dataframe\">\n",
       "  <thead>\n",
       "    <tr style=\"text-align: right;\">\n",
       "      <th></th>\n",
       "      <th>REGION</th>\n",
       "      <th>DEPARTEMENT</th>\n",
       "      <th>NOM DU MUSEE</th>\n",
       "      <th>REF MUSEE</th>\n",
       "      <th>ADR</th>\n",
       "      <th>CP</th>\n",
       "      <th>VILLE</th>\n",
       "      <th>TELEPHONE1</th>\n",
       "      <th>FAX</th>\n",
       "      <th>SITWEB</th>\n",
       "      <th>FERMETURE ANNUELLE</th>\n",
       "      <th>PERIODE OUVERTURE</th>\n",
       "      <th>JOURS NOCTURNES</th>\n",
       "      <th>DATE APPELLATION</th>\n",
       "      <th>Date retrait appellation par Haut Conseil</th>\n",
       "      <th>coordonnees_finales</th>\n",
       "      <th>coordonnees_ban</th>\n",
       "      <th>coordonnees_cp</th>\n",
       "      <th>lat</th>\n",
       "      <th>lon</th>\n",
       "    </tr>\n",
       "  </thead>\n",
       "  <tbody>\n",
       "    <tr>\n",
       "      <td>0</td>\n",
       "      <td>AUVERGNE-RHÔNE-ALPES</td>\n",
       "      <td>AIN</td>\n",
       "      <td>Musée de la Résistance et de la Déportation de...</td>\n",
       "      <td>0126901</td>\n",
       "      <td>3, Montée de l'Abbaye</td>\n",
       "      <td>1130</td>\n",
       "      <td>NANTUA</td>\n",
       "      <td>474750750.0</td>\n",
       "      <td>474752758.0</td>\n",
       "      <td>www.musees.ain.fr</td>\n",
       "      <td>1er mai,  lundi de la Pentecôte, 1er novembre</td>\n",
       "      <td>Ouvert du 1er mars au 15 novembre, du mercredi...</td>\n",
       "      <td>NaN</td>\n",
       "      <td>01/02/2003</td>\n",
       "      <td>NaN</td>\n",
       "      <td>46.152378,5.608744</td>\n",
       "      <td>46.152378,5.608744</td>\n",
       "      <td>46.1948352393,5.7148151411</td>\n",
       "      <td>46.152378</td>\n",
       "      <td>5.608744</td>\n",
       "    </tr>\n",
       "    <tr>\n",
       "      <td>1</td>\n",
       "      <td>AUVERGNE-RHÔNE-ALPES</td>\n",
       "      <td>AIN</td>\n",
       "      <td>Musée de la Dombes</td>\n",
       "      <td>0144301</td>\n",
       "      <td>Maison de la Dombes</td>\n",
       "      <td>1330</td>\n",
       "      <td>VILLARS DE LA DOMBES</td>\n",
       "      <td>NaN</td>\n",
       "      <td>NaN</td>\n",
       "      <td>http://www.museedeladombes.fr/</td>\n",
       "      <td>NaN</td>\n",
       "      <td>NaN</td>\n",
       "      <td>NaN</td>\n",
       "      <td>01/02/2003</td>\n",
       "      <td>NaN</td>\n",
       "      <td>46.000448,5.026912</td>\n",
       "      <td>46.000448,5.026912</td>\n",
       "      <td>45.9976909227,5.02164504767</td>\n",
       "      <td>46.000448</td>\n",
       "      <td>5.026912</td>\n",
       "    </tr>\n",
       "    <tr>\n",
       "      <td>2</td>\n",
       "      <td>CENTRE-VAL DE LOIRE</td>\n",
       "      <td>EURE ET LOIR</td>\n",
       "      <td>Musée des Beaux-Arts et d'Histoire Naturelle</td>\n",
       "      <td>2808801</td>\n",
       "      <td>3, rue Toufaire</td>\n",
       "      <td>28200</td>\n",
       "      <td>CHATEAUDUN</td>\n",
       "      <td>237455536.0</td>\n",
       "      <td>237455446.0</td>\n",
       "      <td>www.ville-chateaudun.fr ou www.musees.regionce...</td>\n",
       "      <td>1er janvier, 1er mai et 25 décembre</td>\n",
       "      <td>Ouvert d'octobre à mai du lundi au vendredi, d...</td>\n",
       "      <td>NaN</td>\n",
       "      <td>01/02/2003</td>\n",
       "      <td>NaN</td>\n",
       "      <td>48.070792,1.327905</td>\n",
       "      <td>48.070792,1.327905</td>\n",
       "      <td>48.0750607367,1.3674487976</td>\n",
       "      <td>48.070792</td>\n",
       "      <td>1.327905</td>\n",
       "    </tr>\n",
       "  </tbody>\n",
       "</table>\n",
       "</div>"
      ],
      "text/plain": [
       "                 REGION   DEPARTEMENT  \\\n",
       "0  AUVERGNE-RHÔNE-ALPES           AIN   \n",
       "1  AUVERGNE-RHÔNE-ALPES           AIN   \n",
       "2   CENTRE-VAL DE LOIRE  EURE ET LOIR   \n",
       "\n",
       "                                        NOM DU MUSEE REF MUSEE  \\\n",
       "0  Musée de la Résistance et de la Déportation de...   0126901   \n",
       "1                                 Musée de la Dombes   0144301   \n",
       "2       Musée des Beaux-Arts et d'Histoire Naturelle   2808801   \n",
       "\n",
       "                     ADR     CP                 VILLE   TELEPHONE1  \\\n",
       "0  3, Montée de l'Abbaye   1130                NANTUA  474750750.0   \n",
       "1    Maison de la Dombes   1330  VILLARS DE LA DOMBES          NaN   \n",
       "2        3, rue Toufaire  28200            CHATEAUDUN  237455536.0   \n",
       "\n",
       "           FAX                                             SITWEB  \\\n",
       "0  474752758.0                                  www.musees.ain.fr   \n",
       "1          NaN                     http://www.museedeladombes.fr/   \n",
       "2  237455446.0  www.ville-chateaudun.fr ou www.musees.regionce...   \n",
       "\n",
       "                              FERMETURE ANNUELLE  \\\n",
       "0  1er mai,  lundi de la Pentecôte, 1er novembre   \n",
       "1                                            NaN   \n",
       "2            1er janvier, 1er mai et 25 décembre   \n",
       "\n",
       "                                   PERIODE OUVERTURE JOURS NOCTURNES  \\\n",
       "0  Ouvert du 1er mars au 15 novembre, du mercredi...             NaN   \n",
       "1                                                NaN             NaN   \n",
       "2  Ouvert d'octobre à mai du lundi au vendredi, d...             NaN   \n",
       "\n",
       "  DATE APPELLATION Date retrait appellation par Haut Conseil  \\\n",
       "0       01/02/2003                                       NaN   \n",
       "1       01/02/2003                                       NaN   \n",
       "2       01/02/2003                                       NaN   \n",
       "\n",
       "  coordonnees_finales     coordonnees_ban               coordonnees_cp  \\\n",
       "0  46.152378,5.608744  46.152378,5.608744   46.1948352393,5.7148151411   \n",
       "1  46.000448,5.026912  46.000448,5.026912  45.9976909227,5.02164504767   \n",
       "2  48.070792,1.327905  48.070792,1.327905   48.0750607367,1.3674487976   \n",
       "\n",
       "         lat       lon  \n",
       "0  46.152378  5.608744  \n",
       "1  46.000448  5.026912  \n",
       "2  48.070792  1.327905  "
      ]
     },
     "execution_count": 3,
     "metadata": {},
     "output_type": "execute_result"
    }
   ],
   "source": [
    "df = pd.read_csv(fname, sep=';')\n",
    "df = df.dropna(subset=['coordonnees_finales'])\n",
    "df['lat'] = df['coordonnees_finales'].apply(lambda x: str(x).split(',')[0])\n",
    "df['lon'] = df['coordonnees_finales'].apply(lambda x: str(x).split(',')[1])\n",
    "df.head(3)"
   ]
  },
  {
   "cell_type": "markdown",
   "metadata": {},
   "source": [
    "#### <br> Display the size of the table (missing museums that are not geolocalized) + the different fields"
   ]
  },
  {
   "cell_type": "code",
   "execution_count": 4,
   "metadata": {},
   "outputs": [
    {
     "name": "stdout",
     "output_type": "stream",
     "text": [
      "size of the table: (1153, 20)\n",
      "Fields of the table:\n"
     ]
    },
    {
     "data": {
      "text/plain": [
       "Index(['REGION', 'DEPARTEMENT', 'NOM DU MUSEE', 'REF MUSEE', 'ADR', 'CP',\n",
       "       'VILLE', 'TELEPHONE1', 'FAX', 'SITWEB', 'FERMETURE ANNUELLE',\n",
       "       'PERIODE OUVERTURE', 'JOURS NOCTURNES', 'DATE APPELLATION',\n",
       "       'Date retrait appellation par Haut Conseil', 'coordonnees_finales',\n",
       "       'coordonnees_ban', 'coordonnees_cp', 'lat', 'lon'],\n",
       "      dtype='object')"
      ]
     },
     "execution_count": 4,
     "metadata": {},
     "output_type": "execute_result"
    }
   ],
   "source": [
    "print(f'size of the table: {df.shape}')\n",
    "print('Fields of the table:')\n",
    "df.columns"
   ]
  },
  {
   "cell_type": "markdown",
   "metadata": {},
   "source": [
    "#### <br> Build a map with ipyleaflet"
   ]
  },
  {
   "cell_type": "code",
   "execution_count": 5,
   "metadata": {},
   "outputs": [
    {
     "data": {
      "application/vnd.jupyter.widget-view+json": {
       "model_id": "712ec128323146999034682bc4b2fe06",
       "version_major": 2,
       "version_minor": 0
      },
      "text/plain": [
       "Map(basemap={'url': 'https://{s}.tile.openstreetmap.org/{z}/{x}/{y}.png', 'max_zoom': 19, 'attribution': 'Map …"
      ]
     },
     "metadata": {},
     "output_type": "display_data"
    }
   ],
   "source": [
    "m = Map(layers=(terrain, ), center=france_barycenter, zoom=default_zoom, layout=Layout(width='100%', height='900px'))\n",
    "marker_list = []\n",
    "for i in range(df.shape[0]):\n",
    "    s = df.iloc[i]\n",
    "    marker_list.append(Marker(location=(s.lat, s.lon), draggable=False, title=s['NOM DU MUSEE']))\n",
    "marker_cluster = MarkerCluster(markers=marker_list)\n",
    "m.add_layer(marker_cluster)\n",
    "m"
   ]
  },
  {
   "cell_type": "markdown",
   "metadata": {},
   "source": [
    "#### <br> Save the map as an interactive HTML page"
   ]
  },
  {
   "cell_type": "code",
   "execution_count": 6,
   "metadata": {},
   "outputs": [],
   "source": [
    "embed_minimal_html('french_museums.html', views=[m], title='French museums')"
   ]
  },
  {
   "cell_type": "markdown",
   "metadata": {},
   "source": [
    "#### <br> Basic stats: cities with most museums"
   ]
  },
  {
   "cell_type": "code",
   "execution_count": 9,
   "metadata": {},
   "outputs": [
    {
     "data": {
      "text/plain": [
       "PARIS              51\n",
       "MARSEILLE          15\n",
       "NICE               11\n",
       "STRASBOURG         10\n",
       "LYON               10\n",
       "TOULOUSE            8\n",
       "ROUEN               8\n",
       "AIX-EN-PROVENCE     7\n",
       "TROYES              7\n",
       "BORDEAUX            7\n",
       "Name: VILLE, dtype: int64"
      ]
     },
     "execution_count": 9,
     "metadata": {},
     "output_type": "execute_result"
    }
   ],
   "source": [
    "df['VILLE'].value_counts().nlargest(10)"
   ]
  }
 ],
 "metadata": {
  "kernelspec": {
   "display_name": "Python 3",
   "language": "python",
   "name": "python3"
  },
  "language_info": {
   "codemirror_mode": {
    "name": "ipython",
    "version": 3
   },
   "file_extension": ".py",
   "mimetype": "text/x-python",
   "name": "python",
   "nbconvert_exporter": "python",
   "pygments_lexer": "ipython3",
   "version": "3.7.4"
  }
 },
 "nbformat": 4,
 "nbformat_minor": 4
}
